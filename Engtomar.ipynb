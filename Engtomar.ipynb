{
  "nbformat": 4,
  "nbformat_minor": 0,
  "metadata": {
    "colab": {
      "name": "Engtomar.ipynb",
      "version": "0.3.2",
      "provenance": []
    },
    "language_info": {
      "codemirror_mode": {
        "name": "ipython",
        "version": 3
      },
      "file_extension": ".py",
      "mimetype": "text/x-python",
      "name": "python",
      "nbconvert_exporter": "python",
      "pygments_lexer": "ipython3",
      "version": "3.6.5"
    },
    "kernelspec": {
      "name": "python3",
      "display_name": "Python 3"
    },
    "accelerator": "GPU"
  },
  "cells": [
    {
      "cell_type": "markdown",
      "metadata": {
        "id": "KbakQbMNFmr5",
        "colab_type": "text"
      },
      "source": [
        "### Datasets\n",
        "http://www.manythings.org/anki/  (Download and unzip mar-eng.zip file)"
      ]
    },
    {
      "cell_type": "code",
      "metadata": {
        "id": "u5uwZwx_F1qX",
        "colab_type": "code",
        "outputId": "f5e4cf2a-c4c5-4f14-ca3d-003bb67dfee7",
        "colab": {
          "base_uri": "https://localhost:8080/",
          "height": 292
        }
      },
      "source": [
        "!wget http://www.manythings.org/anki/mar-eng.zip\n",
        "!ls\n",
        "!unzip mar-eng.zip"
      ],
      "execution_count": 0,
      "outputs": [
        {
          "output_type": "stream",
          "text": [
            "--2019-05-17 18:51:20--  http://www.manythings.org/anki/mar-eng.zip\n",
            "Resolving www.manythings.org (www.manythings.org)... 104.24.109.196, 104.24.108.196, 2606:4700:30::6818:6dc4, ...\n",
            "Connecting to www.manythings.org (www.manythings.org)|104.24.109.196|:80... connected.\n",
            "HTTP request sent, awaiting response... 200 OK\n",
            "Length: 698760 (682K) [application/zip]\n",
            "Saving to: ‘mar-eng.zip’\n",
            "\n",
            "mar-eng.zip         100%[===================>] 682.38K  4.03MB/s    in 0.2s    \n",
            "\n",
            "2019-05-17 18:51:26 (4.03 MB/s) - ‘mar-eng.zip’ saved [698760/698760]\n",
            "\n",
            "mar-eng.zip  sample_data\n",
            "Archive:  mar-eng.zip\n",
            "  inflating: mar.txt                 \n",
            "  inflating: _about.txt              \n"
          ],
          "name": "stdout"
        }
      ]
    },
    {
      "cell_type": "code",
      "metadata": {
        "id": "AIpDFi-SFmr7",
        "colab_type": "code",
        "outputId": "cce07383-00f6-4f6b-b2e8-a83f703e190c",
        "colab": {
          "base_uri": "https://localhost:8080/",
          "height": 34
        }
      },
      "source": [
        "import pandas as pd\n",
        "import numpy as np\n",
        "import string\n",
        "from string import digits\n",
        "import matplotlib.pyplot as plt\n",
        "%matplotlib inline\n",
        "import re\n",
        "from sklearn.utils import shuffle\n",
        "from sklearn.model_selection import train_test_split\n",
        "from keras.layers import Input, LSTM, Embedding, Dense\n",
        "from keras.models import Model"
      ],
      "execution_count": 0,
      "outputs": [
        {
          "output_type": "stream",
          "text": [
            "Using TensorFlow backend.\n"
          ],
          "name": "stderr"
        }
      ]
    },
    {
      "cell_type": "code",
      "metadata": {
        "id": "Bggqqv_sFmsD",
        "colab_type": "code",
        "outputId": "24c86436-6eea-44e6-9c1d-63860b89da5a",
        "colab": {
          "base_uri": "https://localhost:8080/",
          "height": 71
        }
      },
      "source": [
        "lines= pd.read_table('mar.txt', names=['eng', 'mar'])"
      ],
      "execution_count": 0,
      "outputs": [
        {
          "output_type": "stream",
          "text": [
            "/usr/local/lib/python3.6/dist-packages/ipykernel_launcher.py:1: FutureWarning: read_table is deprecated, use read_csv instead, passing sep='\\t'.\n",
            "  \"\"\"Entry point for launching an IPython kernel.\n"
          ],
          "name": "stderr"
        }
      ]
    },
    {
      "cell_type": "code",
      "metadata": {
        "id": "6KFt2_6NFmsG",
        "colab_type": "code",
        "outputId": "06069cfb-3023-4a98-b250-64b8afefd45e",
        "colab": {
          "base_uri": "https://localhost:8080/",
          "height": 34
        }
      },
      "source": [
        "lines.shape"
      ],
      "execution_count": 0,
      "outputs": [
        {
          "output_type": "execute_result",
          "data": {
            "text/plain": [
              "(33725, 2)"
            ]
          },
          "metadata": {
            "tags": []
          },
          "execution_count": 4
        }
      ]
    },
    {
      "cell_type": "code",
      "metadata": {
        "id": "I8kYzb0dFmsK",
        "colab_type": "code",
        "colab": {}
      },
      "source": [
        "\n",
        "lines.eng=lines.eng.apply(lambda x: x.lower())\n",
        "lines.mar=lines.mar.apply(lambda x: x.lower())"
      ],
      "execution_count": 0,
      "outputs": []
    },
    {
      "cell_type": "code",
      "metadata": {
        "id": "49ZUS7ulFmsO",
        "colab_type": "code",
        "colab": {}
      },
      "source": [
        "lines.eng=lines.eng.apply(lambda x: re.sub(\"'\", '', x))\n",
        "lines.mar=lines.mar.apply(lambda x: re.sub(\"'\", '', x))"
      ],
      "execution_count": 0,
      "outputs": []
    },
    {
      "cell_type": "code",
      "metadata": {
        "id": "Qybrp6inFmsR",
        "colab_type": "code",
        "colab": {}
      },
      "source": [
        "exclude = set(string.punctuation) \n",
        "lines.eng=lines.eng.apply(lambda x: ''.join(ch for ch in x if ch not in exclude))\n",
        "lines.mar=lines.mar.apply(lambda x: ''.join(ch for ch in x if ch not in exclude))"
      ],
      "execution_count": 0,
      "outputs": []
    },
    {
      "cell_type": "code",
      "metadata": {
        "id": "GKgW9N1yFmsU",
        "colab_type": "code",
        "colab": {}
      },
      "source": [
        "remove_digits = str.maketrans('', '', digits)\n",
        "lines.eng=lines.eng.apply(lambda x: x.translate(remove_digits))\n",
        "lines.mar = lines.mar.apply(lambda x: re.sub(\"[२३०८१५७९४६]\", \"\", x))"
      ],
      "execution_count": 0,
      "outputs": []
    },
    {
      "cell_type": "code",
      "metadata": {
        "id": "r2pjIMhjFmsY",
        "colab_type": "code",
        "colab": {}
      },
      "source": [
        "lines.eng=lines.eng.apply(lambda x: x.strip())\n",
        "lines.mar=lines.mar.apply(lambda x: x.strip())\n",
        "lines.eng=lines.eng.apply(lambda x: re.sub(\" +\", \" \", x))\n",
        "lines.mar=lines.mar.apply(lambda x: re.sub(\" +\", \" \", x))"
      ],
      "execution_count": 0,
      "outputs": []
    },
    {
      "cell_type": "code",
      "metadata": {
        "id": "QHwHnF8FFmsb",
        "colab_type": "code",
        "colab": {}
      },
      "source": [
        "lines.mar = lines.mar.apply(lambda x : 'START_ '+ x + ' _END')"
      ],
      "execution_count": 0,
      "outputs": []
    },
    {
      "cell_type": "code",
      "metadata": {
        "id": "Q5Kb6GbyFmsg",
        "colab_type": "code",
        "outputId": "6c36764c-20dc-4363-d1c6-1712a395db62",
        "colab": {
          "base_uri": "https://localhost:8080/",
          "height": 359
        }
      },
      "source": [
        "lines.sample(10)"
      ],
      "execution_count": 0,
      "outputs": [
        {
          "output_type": "execute_result",
          "data": {
            "text/html": [
              "<div>\n",
              "<style scoped>\n",
              "    .dataframe tbody tr th:only-of-type {\n",
              "        vertical-align: middle;\n",
              "    }\n",
              "\n",
              "    .dataframe tbody tr th {\n",
              "        vertical-align: top;\n",
              "    }\n",
              "\n",
              "    .dataframe thead th {\n",
              "        text-align: right;\n",
              "    }\n",
              "</style>\n",
              "<table border=\"1\" class=\"dataframe\">\n",
              "  <thead>\n",
              "    <tr style=\"text-align: right;\">\n",
              "      <th></th>\n",
              "      <th>eng</th>\n",
              "      <th>mar</th>\n",
              "    </tr>\n",
              "  </thead>\n",
              "  <tbody>\n",
              "    <tr>\n",
              "      <th>21203</th>\n",
              "      <td>lets go in the other room</td>\n",
              "      <td>START_ दुसर्‍या खोलीत जाऊया _END</td>\n",
              "    </tr>\n",
              "    <tr>\n",
              "      <th>28731</th>\n",
              "      <td>tom didnt like living in the city</td>\n",
              "      <td>START_ टॉमला शहरात राहणं आवडलं नाही _END</td>\n",
              "    </tr>\n",
              "    <tr>\n",
              "      <th>14544</th>\n",
              "      <td>where is your brother</td>\n",
              "      <td>START_ तुमचा भाऊ कुठे आहे _END</td>\n",
              "    </tr>\n",
              "    <tr>\n",
              "      <th>24336</th>\n",
              "      <td>do you know who took the call</td>\n",
              "      <td>START_ फोन कोणी उचलला हे तुला कसं माहिती _END</td>\n",
              "    </tr>\n",
              "    <tr>\n",
              "      <th>12803</th>\n",
              "      <td>who were you texting</td>\n",
              "      <td>START_ तू कोणाला एसएमएस पाठवत होतास _END</td>\n",
              "    </tr>\n",
              "    <tr>\n",
              "      <th>23572</th>\n",
              "      <td>i told my parents everything</td>\n",
              "      <td>START_ मी माझ्या आईवडिलांना सर्वकाही सांगितलं ...</td>\n",
              "    </tr>\n",
              "    <tr>\n",
              "      <th>5409</th>\n",
              "      <td>thats our train</td>\n",
              "      <td>START_ ती आपली ट्रेन आहे _END</td>\n",
              "    </tr>\n",
              "    <tr>\n",
              "      <th>22324</th>\n",
              "      <td>i play tennis an hour a day</td>\n",
              "      <td>START_ मी दिवसातून एक तास टेनिस खेळते _END</td>\n",
              "    </tr>\n",
              "    <tr>\n",
              "      <th>23741</th>\n",
              "      <td>my brother is still sleeping</td>\n",
              "      <td>START_ माझा भाऊ अजूनही झोपतोय _END</td>\n",
              "    </tr>\n",
              "    <tr>\n",
              "      <th>1552</th>\n",
              "      <td>who got shot</td>\n",
              "      <td>START_ कोणाला गोळी लागली _END</td>\n",
              "    </tr>\n",
              "  </tbody>\n",
              "</table>\n",
              "</div>"
            ],
            "text/plain": [
              "                                     eng                                                mar\n",
              "21203          lets go in the other room                   START_ दुसर्‍या खोलीत जाऊया _END\n",
              "28731  tom didnt like living in the city           START_ टॉमला शहरात राहणं आवडलं नाही _END\n",
              "14544              where is your brother                     START_ तुमचा भाऊ कुठे आहे _END\n",
              "24336      do you know who took the call      START_ फोन कोणी उचलला हे तुला कसं माहिती _END\n",
              "12803               who were you texting           START_ तू कोणाला एसएमएस पाठवत होतास _END\n",
              "23572       i told my parents everything  START_ मी माझ्या आईवडिलांना सर्वकाही सांगितलं ...\n",
              "5409                     thats our train                      START_ ती आपली ट्रेन आहे _END\n",
              "22324        i play tennis an hour a day         START_ मी दिवसातून एक तास टेनिस खेळते _END\n",
              "23741       my brother is still sleeping                 START_ माझा भाऊ अजूनही झोपतोय _END\n",
              "1552                        who got shot                      START_ कोणाला गोळी लागली _END"
            ]
          },
          "metadata": {
            "tags": []
          },
          "execution_count": 11
        }
      ]
    },
    {
      "cell_type": "code",
      "metadata": {
        "id": "w6pSM3ojFmsm",
        "colab_type": "code",
        "colab": {}
      },
      "source": [
        "all_eng_words=set()\n",
        "for eng in lines.eng:\n",
        "    for word in eng.split():\n",
        "        if word not in all_eng_words:\n",
        "            all_eng_words.add(word)\n",
        "\n",
        "for mar in lines.mar:\n",
        "    for word in mar.split():\n",
        "        if word not in all_marathi_words:\n",
        "            all_marathi_words.add(word)"
      ],
      "execution_count": 0,
      "outputs": []
    },
    {
      "cell_type": "code",
      "metadata": {
        "id": "3-6dBHPsFmsp",
        "colab_type": "code",
        "outputId": "08a25b32-5761-4086-ab0d-f017c87786fb",
        "colab": {
          "base_uri": "https://localhost:8080/",
          "height": 34
        }
      },
      "source": [
        "for l in lines.eng:\n",
        "    lenght_list.append(len(l.split(' ')))\n",
        "max_length_src = np.max(lenght_list)\n",
        "max_length_src"
      ],
      "execution_count": 0,
      "outputs": [
        {
          "output_type": "execute_result",
          "data": {
            "text/plain": [
              "34"
            ]
          },
          "metadata": {
            "tags": []
          },
          "execution_count": 13
        }
      ]
    },
    {
      "cell_type": "code",
      "metadata": {
        "id": "eUsHz0jHFmst",
        "colab_type": "code",
        "outputId": "61e1773b-e93d-4c9c-d8c5-5a866b9f69e0",
        "colab": {
          "base_uri": "https://localhost:8080/",
          "height": 34
        }
      },
      "source": [
        "lenght_list=[]\n",
        "for l in lines.mar:\n",
        "    lenght_list.append(len(l.split(' ')))\n",
        "max_length_tar = np.max(lenght_list)\n",
        "max_length_tar"
      ],
      "execution_count": 0,
      "outputs": [
        {
          "output_type": "execute_result",
          "data": {
            "text/plain": [
              "37"
            ]
          },
          "metadata": {
            "tags": []
          },
          "execution_count": 14
        }
      ]
    },
    {
      "cell_type": "code",
      "metadata": {
        "id": "72KZqtyEFmsx",
        "colab_type": "code",
        "outputId": "a2c3a06f-3b65-4fa0-9669-37920224c9ee",
        "colab": {
          "base_uri": "https://localhost:8080/",
          "height": 34
        }
      },
      "source": [
        "input_words = sorted(list(all_eng_words))\n",
        "target_words = sorted(list(all_marathi_words))\n",
        "num_encoder_tokens = len(all_eng_words)\n",
        "num_decoder_tokens = len(all_marathi_words)\n",
        "num_encoder_tokens, num_decoder_tokens"
      ],
      "execution_count": 0,
      "outputs": [
        {
          "output_type": "execute_result",
          "data": {
            "text/plain": [
              "(5388, 12709)"
            ]
          },
          "metadata": {
            "tags": []
          },
          "execution_count": 15
        }
      ]
    },
    {
      "cell_type": "code",
      "metadata": {
        "id": "YGl6WOncFms1",
        "colab_type": "code",
        "outputId": "f10f087a-85be-46b9-e280-75a37718d79e",
        "colab": {
          "base_uri": "https://localhost:8080/",
          "height": 34
        }
      },
      "source": [
        "num_decoder_tokens += 1 # For zero padding\n",
        "num_decoder_tokens"
      ],
      "execution_count": 0,
      "outputs": [
        {
          "output_type": "execute_result",
          "data": {
            "text/plain": [
              "12710"
            ]
          },
          "metadata": {
            "tags": []
          },
          "execution_count": 16
        }
      ]
    },
    {
      "cell_type": "code",
      "metadata": {
        "id": "DkzZrl-BFms7",
        "colab_type": "code",
        "colab": {}
      },
      "source": [
        "input_token_index = dict([(word, i+1) for i, word in enumerate(input_words)])\n",
        "target_token_index = dict([(word, i+1) for i, word in enumerate(target_words)])"
      ],
      "execution_count": 0,
      "outputs": []
    },
    {
      "cell_type": "code",
      "metadata": {
        "id": "28VVTyZjFms_",
        "colab_type": "code",
        "colab": {}
      },
      "source": [
        "reverse_input_char_index = dict((i, word) for word, i in input_token_index.items())\n",
        "reverse_target_char_index = dict((i, word) for word, i in target_token_index.items())"
      ],
      "execution_count": 0,
      "outputs": []
    },
    {
      "cell_type": "code",
      "metadata": {
        "id": "aTSRHIpBFmtE",
        "colab_type": "code",
        "outputId": "79f4400f-2179-43a6-e44a-4496cc14fafd",
        "colab": {
          "base_uri": "https://localhost:8080/",
          "height": 427
        }
      },
      "source": [
        "lines = shuffle(lines)\n",
        "lines.head(10)"
      ],
      "execution_count": 0,
      "outputs": [
        {
          "output_type": "execute_result",
          "data": {
            "text/html": [
              "<div>\n",
              "<style scoped>\n",
              "    .dataframe tbody tr th:only-of-type {\n",
              "        vertical-align: middle;\n",
              "    }\n",
              "\n",
              "    .dataframe tbody tr th {\n",
              "        vertical-align: top;\n",
              "    }\n",
              "\n",
              "    .dataframe thead th {\n",
              "        text-align: right;\n",
              "    }\n",
              "</style>\n",
              "<table border=\"1\" class=\"dataframe\">\n",
              "  <thead>\n",
              "    <tr style=\"text-align: right;\">\n",
              "      <th></th>\n",
              "      <th>eng</th>\n",
              "      <th>mar</th>\n",
              "    </tr>\n",
              "  </thead>\n",
              "  <tbody>\n",
              "    <tr>\n",
              "      <th>30108</th>\n",
              "      <td>people do not trust a weak government</td>\n",
              "      <td>START_ लोकं दुर्बळ सरकारवर विश्वास ठेवत नाहीत ...</td>\n",
              "    </tr>\n",
              "    <tr>\n",
              "      <th>24591</th>\n",
              "      <td>i prefer history to geography</td>\n",
              "      <td>START_ मला भूगोलापेक्षा इतिहास आवडतो _END</td>\n",
              "    </tr>\n",
              "    <tr>\n",
              "      <th>5354</th>\n",
              "      <td>she looked at me</td>\n",
              "      <td>START_ तिने माझ्याकडे बघितलं _END</td>\n",
              "    </tr>\n",
              "    <tr>\n",
              "      <th>29701</th>\n",
              "      <td>thats what i want most in the world</td>\n",
              "      <td>START_ मला अख्ख्या जगात सर्वात जास्त तेच हवं आ...</td>\n",
              "    </tr>\n",
              "    <tr>\n",
              "      <th>10293</th>\n",
              "      <td>show me another one</td>\n",
              "      <td>START_ दुसरा दाखव _END</td>\n",
              "    </tr>\n",
              "    <tr>\n",
              "      <th>29925</th>\n",
              "      <td>did you want to go to boston with tom</td>\n",
              "      <td>START_ तुला टॉमबरोबर बॉस्टनला जायचं होतं का _END</td>\n",
              "    </tr>\n",
              "    <tr>\n",
              "      <th>2180</th>\n",
              "      <td>we caught tom</td>\n",
              "      <td>START_ आम्ही टॉमला पकडलं _END</td>\n",
              "    </tr>\n",
              "    <tr>\n",
              "      <th>26122</th>\n",
              "      <td>what happened to your computer</td>\n",
              "      <td>START_ तुझ्या कम्प्युटरला काय झालं _END</td>\n",
              "    </tr>\n",
              "    <tr>\n",
              "      <th>18006</th>\n",
              "      <td>his dog is barking at me</td>\n",
              "      <td>START_ त्यांचा कुत्रा माझ्यावर भुंकतो आहे _END</td>\n",
              "    </tr>\n",
              "    <tr>\n",
              "      <th>23425</th>\n",
              "      <td>i bought two bottles of milk</td>\n",
              "      <td>START_ मी दुधाच्या दोन बाटल्या विकत घेतल्या _END</td>\n",
              "    </tr>\n",
              "  </tbody>\n",
              "</table>\n",
              "</div>"
            ],
            "text/plain": [
              "                                         eng                                                mar\n",
              "30108  people do not trust a weak government  START_ लोकं दुर्बळ सरकारवर विश्वास ठेवत नाहीत ...\n",
              "24591          i prefer history to geography          START_ मला भूगोलापेक्षा इतिहास आवडतो _END\n",
              "5354                        she looked at me                  START_ तिने माझ्याकडे बघितलं _END\n",
              "29701    thats what i want most in the world  START_ मला अख्ख्या जगात सर्वात जास्त तेच हवं आ...\n",
              "10293                    show me another one                             START_ दुसरा दाखव _END\n",
              "29925  did you want to go to boston with tom   START_ तुला टॉमबरोबर बॉस्टनला जायचं होतं का _END\n",
              "2180                           we caught tom                      START_ आम्ही टॉमला पकडलं _END\n",
              "26122         what happened to your computer            START_ तुझ्या कम्प्युटरला काय झालं _END\n",
              "18006               his dog is barking at me     START_ त्यांचा कुत्रा माझ्यावर भुंकतो आहे _END\n",
              "23425           i bought two bottles of milk   START_ मी दुधाच्या दोन बाटल्या विकत घेतल्या _END"
            ]
          },
          "metadata": {
            "tags": []
          },
          "execution_count": 19
        }
      ]
    },
    {
      "cell_type": "code",
      "metadata": {
        "id": "1LndkFLMFmtJ",
        "colab_type": "code",
        "outputId": "d2fc8a7d-5c12-44a6-eae4-421fe9b81034",
        "colab": {
          "base_uri": "https://localhost:8080/",
          "height": 34
        }
      },
      "source": [
        "\n",
        "X, y = lines.eng, lines.mar\n",
        "X_train, X_test, y_train, y_test = train_test_split(X, y, test_size = 0.1)\n",
        "X_train.shape, X_test.shape"
      ],
      "execution_count": 0,
      "outputs": [
        {
          "output_type": "execute_result",
          "data": {
            "text/plain": [
              "((30352,), (3373,))"
            ]
          },
          "metadata": {
            "tags": []
          },
          "execution_count": 20
        }
      ]
    },
    {
      "cell_type": "code",
      "metadata": {
        "id": "nSbkZee8FmtT",
        "colab_type": "code",
        "colab": {}
      },
      "source": [
        "def generate_batch(X = X_train, y = y_train, batch_size = 128):\n",
        "    ''' Generate a batch of data '''\n",
        "    while True:\n",
        "        for j in range(0, len(X), batch_size):\n",
        "            encoder_input_data = np.zeros((batch_size, max_length_src),dtype='float32')\n",
        "            decoder_input_data = np.zeros((batch_size, max_length_tar),dtype='float32')\n",
        "            decoder_target_data = np.zeros((batch_size, max_length_tar, num_decoder_tokens),dtype='float32')\n",
        "            for i, (input_text, target_text) in enumerate(zip(X[j:j+batch_size], y[j:j+batch_size])):\n",
        "                for t, word in enumerate(input_text.split()):\n",
        "                    encoder_input_data[i, t] = input_token_index[word] # encoder input seq\n",
        "                for t, word in enumerate(target_text.split()):\n",
        "                    if t<len(target_text.split())-1:\n",
        "                        decoder_input_data[i, t] = target_token_index[word] # decoder input seq\n",
        "                    if t>0:\n",
        "                        # decoder target sequence (one hot encoded)\n",
        "                        # does not include the START_ token\n",
        "                        # Offset by one timestep\n",
        "                        decoder_target_data[i, t - 1, target_token_index[word]] = 1.\n",
        "            yield([encoder_input_data, decoder_input_data], decoder_target_data)"
      ],
      "execution_count": 0,
      "outputs": []
    },
    {
      "cell_type": "code",
      "metadata": {
        "colab_type": "code",
        "id": "9LqspMQltI0x",
        "colab": {}
      },
      "source": [
        "latent_dim = 50"
      ],
      "execution_count": 0,
      "outputs": []
    },
    {
      "cell_type": "code",
      "metadata": {
        "colab_type": "code",
        "outputId": "2e2f82bd-b4bb-4d4d-82d2-880a2673f898",
        "id": "pcZYfciatI0e",
        "colab": {
          "base_uri": "https://localhost:8080/",
          "height": 88
        }
      },
      "source": [
        "encoder_inputs = Input(shape=(None,))\n",
        "enc_emb =  Embedding(num_encoder_tokens, latent_dim, mask_zero = True)(encoder_inputs)\n",
        "encoder_lstm = LSTM(latent_dim, return_state=True)\n",
        "encoder_outputs, state_h, state_c = encoder_lstm(enc_emb)\n",
        "encoder_states = [state_h, state_c]"
      ],
      "execution_count": 0,
      "outputs": [
        {
          "output_type": "stream",
          "text": [
            "WARNING:tensorflow:From /usr/local/lib/python3.6/dist-packages/tensorflow/python/framework/op_def_library.py:263: colocate_with (from tensorflow.python.framework.ops) is deprecated and will be removed in a future version.\n",
            "Instructions for updating:\n",
            "Colocations handled automatically by placer.\n"
          ],
          "name": "stdout"
        }
      ]
    },
    {
      "cell_type": "code",
      "metadata": {
        "colab_type": "code",
        "id": "62EKmgFvtI0T",
        "colab": {}
      },
      "source": [
        "decoder_inputs = Input(shape=(None,))\n",
        "dec_emb_layer = Embedding(num_decoder_tokens, latent_dim, mask_zero = True)\n",
        "dec_emb = dec_emb_layer(decoder_inputs)\n",
        "decoder_lstm = LSTM(latent_dim, return_sequences=True, return_state=True)\n",
        "decoder_outputs, _, _ = decoder_lstm(dec_emb,\n",
        "                                     initial_state=encoder_states)\n",
        "decoder_dense = Dense(num_decoder_tokens, activation='softmax')\n",
        "decoder_outputs = decoder_dense(decoder_outputs)\n",
        "model = Model([encoder_inputs, decoder_inputs], decoder_outputs)"
      ],
      "execution_count": 0,
      "outputs": []
    },
    {
      "cell_type": "code",
      "metadata": {
        "colab_type": "code",
        "id": "2qUzamR0tI0E",
        "colab": {}
      },
      "source": [
        "model.compile(optimizer='rmsprop', loss='categorical_crossentropy', metrics=['acc'])"
      ],
      "execution_count": 0,
      "outputs": []
    },
    {
      "cell_type": "code",
      "metadata": {
        "colab_type": "code",
        "id": "Qc0Uj_1mtIzZ",
        "colab": {}
      },
      "source": [
        "train_samples = len(X_train)\n",
        "val_samples = len(X_test)\n",
        "batch_size = 128\n",
        "epochs = 50"
      ],
      "execution_count": 0,
      "outputs": []
    },
    {
      "cell_type": "code",
      "metadata": {
        "id": "7sOoCR00Fmtw",
        "colab_type": "code",
        "colab": {}
      },
      "source": [
        "model.save_weights('nmt_weights.h5')"
      ],
      "execution_count": 0,
      "outputs": []
    },
    {
      "cell_type": "code",
      "metadata": {
        "id": "Y6eEoPEXFmtr",
        "colab_type": "code",
        "outputId": "e0d6692b-ca4d-483c-eb74-311c6588b3a5",
        "colab": {
          "base_uri": "https://localhost:8080/",
          "height": 1091
        }
      },
      "source": [
        "model.fit_generator(generator = generate_batch(X_train, y_train, batch_size = batch_size),\n",
        "                    steps_per_epoch = train_samples//batch_size,\n",
        "                    epochs=epochs,\n",
        "                    validation_data = generate_batch(X_test, y_test, batch_size = batch_size),\n",
        "                    validation_steps = val_samples//batch_size)"
      ],
      "execution_count": 0,
      "outputs": [
        {
          "output_type": "stream",
          "text": [
            "WARNING:tensorflow:From /usr/local/lib/python3.6/dist-packages/tensorflow/python/ops/math_ops.py:3066: to_int32 (from tensorflow.python.ops.math_ops) is deprecated and will be removed in a future version.\n",
            "Instructions for updating:\n",
            "Use tf.cast instead.\n",
            "WARNING:tensorflow:From /usr/local/lib/python3.6/dist-packages/tensorflow/python/ops/math_grad.py:102: div (from tensorflow.python.ops.math_ops) is deprecated and will be removed in a future version.\n",
            "Instructions for updating:\n",
            "Deprecated in favor of operator or tf.math.divide.\n",
            "Epoch 1/50\n",
            "237/237 [==============================] - 91s 382ms/step - loss: 6.5234 - acc: 0.1784 - val_loss: 5.8594 - val_acc: 0.1986\n",
            "Epoch 2/50\n",
            "237/237 [==============================] - 85s 359ms/step - loss: 5.6436 - acc: 0.2060 - val_loss: 5.5382 - val_acc: 0.2144\n",
            "Epoch 3/50\n",
            "237/237 [==============================] - 85s 359ms/step - loss: 5.3484 - acc: 0.2295 - val_loss: 5.3225 - val_acc: 0.2403\n",
            "Epoch 4/50\n",
            "237/237 [==============================] - 85s 360ms/step - loss: 5.1434 - acc: 0.2529 - val_loss: 5.1533 - val_acc: 0.2615\n",
            "Epoch 5/50\n",
            "237/237 [==============================] - 85s 358ms/step - loss: 4.9608 - acc: 0.2706 - val_loss: 5.0168 - val_acc: 0.2724\n",
            "Epoch 6/50\n",
            "237/237 [==============================] - 85s 360ms/step - loss: 4.7990 - acc: 0.2862 - val_loss: 4.8719 - val_acc: 0.2939\n",
            "Epoch 7/50\n",
            "237/237 [==============================] - 85s 360ms/step - loss: 4.6459 - acc: 0.3038 - val_loss: 4.7397 - val_acc: 0.3127\n",
            "Epoch 8/50\n",
            "237/237 [==============================] - 85s 358ms/step - loss: 4.5012 - acc: 0.3218 - val_loss: 4.6186 - val_acc: 0.3265\n",
            "Epoch 9/50\n",
            "237/237 [==============================] - 85s 358ms/step - loss: 4.3702 - acc: 0.3373 - val_loss: 4.5373 - val_acc: 0.3399\n",
            "Epoch 10/50\n",
            "237/237 [==============================] - 85s 358ms/step - loss: 4.2505 - acc: 0.3519 - val_loss: 4.4551 - val_acc: 0.3468\n",
            "Epoch 11/50\n",
            "237/237 [==============================] - 85s 359ms/step - loss: 4.1398 - acc: 0.3641 - val_loss: 4.3536 - val_acc: 0.3634\n",
            "Epoch 12/50\n",
            "237/237 [==============================] - 84s 357ms/step - loss: 4.0381 - acc: 0.3768 - val_loss: 4.2872 - val_acc: 0.3703\n",
            "Epoch 13/50\n",
            "237/237 [==============================] - 85s 357ms/step - loss: 3.9417 - acc: 0.3888 - val_loss: 4.2006 - val_acc: 0.3814\n",
            "Epoch 14/50\n",
            "237/237 [==============================] - 85s 358ms/step - loss: 3.8499 - acc: 0.3999 - val_loss: 4.1545 - val_acc: 0.3901\n",
            "Epoch 15/50\n",
            "237/237 [==============================] - 85s 360ms/step - loss: 3.7598 - acc: 0.4110 - val_loss: 4.0824 - val_acc: 0.3977\n",
            "Epoch 16/50\n",
            "237/237 [==============================] - 85s 357ms/step - loss: 3.6754 - acc: 0.4217 - val_loss: 4.0258 - val_acc: 0.4041\n",
            "Epoch 17/50\n",
            "237/237 [==============================] - 85s 359ms/step - loss: 3.5935 - acc: 0.4323 - val_loss: 3.9837 - val_acc: 0.4103\n",
            "Epoch 18/50\n",
            "237/237 [==============================] - 85s 360ms/step - loss: 3.5204 - acc: 0.4415 - val_loss: 3.9314 - val_acc: 0.4164\n",
            "Epoch 19/50\n",
            "237/237 [==============================] - 85s 359ms/step - loss: 3.4509 - acc: 0.4511 - val_loss: 3.8942 - val_acc: 0.4222\n",
            "Epoch 20/50\n",
            "237/237 [==============================] - 85s 358ms/step - loss: 3.3841 - acc: 0.4603 - val_loss: 3.8361 - val_acc: 0.4310\n",
            "Epoch 21/50\n",
            "237/237 [==============================] - 85s 358ms/step - loss: 3.3204 - acc: 0.4684 - val_loss: 3.8174 - val_acc: 0.4371\n",
            "Epoch 22/50\n",
            "237/237 [==============================] - 85s 359ms/step - loss: 3.2601 - acc: 0.4769 - val_loss: 3.7723 - val_acc: 0.4428\n",
            "Epoch 23/50\n",
            "237/237 [==============================] - 85s 357ms/step - loss: 3.2026 - acc: 0.4859 - val_loss: 3.7360 - val_acc: 0.4479\n",
            "Epoch 24/50\n",
            "237/237 [==============================] - 85s 358ms/step - loss: 3.1506 - acc: 0.4939 - val_loss: 3.7287 - val_acc: 0.4514\n",
            "Epoch 25/50\n",
            "237/237 [==============================] - 85s 358ms/step - loss: 3.1011 - acc: 0.5024 - val_loss: 3.7113 - val_acc: 0.4552\n",
            "Epoch 26/50\n",
            "237/237 [==============================] - 85s 360ms/step - loss: 3.0553 - acc: 0.5103 - val_loss: 3.6614 - val_acc: 0.4627\n",
            "Epoch 27/50\n",
            "237/237 [==============================] - 85s 358ms/step - loss: 3.0126 - acc: 0.5180 - val_loss: 3.6442 - val_acc: 0.4659\n",
            "Epoch 28/50\n",
            " 80/237 [=========>....................] - ETA: 54s - loss: 2.9812 - acc: 0.5238"
          ],
          "name": "stdout"
        }
      ]
    },
    {
      "cell_type": "markdown",
      "metadata": {
        "id": "AUxMv7yVFmt0",
        "colab_type": "text"
      },
      "source": [
        "### Load the weights, if you close the application"
      ]
    },
    {
      "cell_type": "code",
      "metadata": {
        "id": "juEqCKf-Fmt0",
        "colab_type": "code",
        "colab": {}
      },
      "source": [
        "model.load_weights('nmt_weights.h5')"
      ],
      "execution_count": 0,
      "outputs": []
    },
    {
      "cell_type": "markdown",
      "metadata": {
        "id": "yvGfiWx5Fmt3",
        "colab_type": "text"
      },
      "source": [
        "### Inference Setup"
      ]
    },
    {
      "cell_type": "code",
      "metadata": {
        "id": "sgNOXYxeFmt4",
        "colab_type": "code",
        "colab": {}
      },
      "source": [
        "# Encode the input sequence to get the \"thought vectors\"\n",
        "encoder_model = Model(encoder_inputs, encoder_states)\n",
        "\n",
        "# Decoder setup\n",
        "# Below tensors will hold the states of the previous time step\n",
        "decoder_state_input_h = Input(shape=(latent_dim,))\n",
        "decoder_state_input_c = Input(shape=(latent_dim,))\n",
        "decoder_states_inputs = [decoder_state_input_h, decoder_state_input_c]\n",
        "\n",
        "dec_emb2= dec_emb_layer(decoder_inputs) # Get the embeddings of the decoder sequence\n",
        "\n",
        "# To predict the next word in the sequence, set the initial states to the states from the previous time step\n",
        "decoder_outputs2, state_h2, state_c2 = decoder_lstm(dec_emb2, initial_state=decoder_states_inputs)\n",
        "decoder_states2 = [state_h2, state_c2]\n",
        "decoder_outputs2 = decoder_dense(decoder_outputs2) # A dense softmax layer to generate prob dist. over the target vocabulary\n",
        "\n",
        "# Final decoder model\n",
        "decoder_model = Model(\n",
        "    [decoder_inputs] + decoder_states_inputs,\n",
        "    [decoder_outputs2] + decoder_states2)"
      ],
      "execution_count": 0,
      "outputs": []
    },
    {
      "cell_type": "markdown",
      "metadata": {
        "id": "NlecJogoFmuC",
        "colab_type": "text"
      },
      "source": [
        "### Decode sample sequeces"
      ]
    },
    {
      "cell_type": "code",
      "metadata": {
        "id": "F3g5jRfYFmuD",
        "colab_type": "code",
        "colab": {}
      },
      "source": [
        "def decode_sequence(input_seq):\n",
        "    # Encode the input as state vectors.\n",
        "    states_value = encoder_model.predict(input_seq)\n",
        "    # Generate empty target sequence of length 1.\n",
        "    target_seq = np.zeros((1,1))\n",
        "    # Populate the first character of target sequence with the start character.\n",
        "    target_seq[0, 0] = target_token_index['START_']\n",
        "\n",
        "    # Sampling loop for a batch of sequences\n",
        "    # (to simplify, here we assume a batch of size 1).\n",
        "    stop_condition = False\n",
        "    decoded_sentence = ''\n",
        "    while not stop_condition:\n",
        "        output_tokens, h, c = decoder_model.predict([target_seq] + states_value)\n",
        "\n",
        "        # Sample a token\n",
        "        sampled_token_index = np.argmax(output_tokens[0, -1, :])\n",
        "        sampled_char = reverse_target_char_index[sampled_token_index]\n",
        "        decoded_sentence += ' '+sampled_char\n",
        "\n",
        "        # Exit condition: either hit max length\n",
        "        # or find stop character.\n",
        "        if (sampled_char == '_END' or\n",
        "           len(decoded_sentence) > 50):\n",
        "            stop_condition = True\n",
        "\n",
        "        # Update the target sequence (of length 1).\n",
        "        target_seq = np.zeros((1,1))\n",
        "        target_seq[0, 0] = sampled_token_index\n",
        "\n",
        "        # Update states\n",
        "        states_value = [h, c]\n",
        "\n",
        "    return decoded_sentence"
      ],
      "execution_count": 0,
      "outputs": []
    },
    {
      "cell_type": "markdown",
      "metadata": {
        "id": "8XyuEoBPFmuF",
        "colab_type": "text"
      },
      "source": [
        "### Evaluation on Train Dataset"
      ]
    },
    {
      "cell_type": "code",
      "metadata": {
        "id": "4CPCKMfDFmuG",
        "colab_type": "code",
        "colab": {}
      },
      "source": [
        "train_gen = generate_batch(X_train, y_train, batch_size = 1)\n",
        "k=-1"
      ],
      "execution_count": 0,
      "outputs": []
    },
    {
      "cell_type": "code",
      "metadata": {
        "id": "k8CsRRniFmw7",
        "colab_type": "code",
        "colab": {}
      },
      "source": [
        "k+=1\n",
        "(input_seq, actual_output), _ = next(train_gen)\n",
        "decoded_sentence = decode_sequence(input_seq)\n",
        "print('Input English sentence:', X_train[k:k+1].values[0])\n",
        "print('Actual Marathi Translation:', y_train[k:k+1].values[0][6:-4])\n",
        "print('Predicted Marathi Translation:', decoded_sentence[:-4])"
      ],
      "execution_count": 0,
      "outputs": []
    },
    {
      "cell_type": "code",
      "metadata": {
        "id": "L77k9bpoFmw8",
        "colab_type": "code",
        "colab": {}
      },
      "source": [
        ""
      ],
      "execution_count": 0,
      "outputs": []
    },
    {
      "cell_type": "markdown",
      "metadata": {
        "id": "6qFfUnc4Fmw9",
        "colab_type": "text"
      },
      "source": [
        "### Evaluation on Validation Dataset"
      ]
    },
    {
      "cell_type": "code",
      "metadata": {
        "id": "Pz74xAD4Fmw-",
        "colab_type": "code",
        "colab": {}
      },
      "source": [
        "val_gen = generate_batch(X_test, y_test, batch_size = 1)\n",
        "k=-1"
      ],
      "execution_count": 0,
      "outputs": []
    },
    {
      "cell_type": "code",
      "metadata": {
        "id": "dx9PmKcTFmw_",
        "colab_type": "code",
        "colab": {}
      },
      "source": [
        "k+=1\n",
        "(input_seq, actual_output), _ = next(val_gen)\n",
        "decoded_sentence = decode_sequence(input_seq)\n",
        "print('Input English sentence:', X_test[k:k+1].values[0])\n",
        "print('Actual Marathi Translation:', y_test[k:k+1].values[0][6:-4])\n",
        "print('Predicted Marathi Translation:', decoded_sentence[:-4])"
      ],
      "execution_count": 0,
      "outputs": []
    },
    {
      "cell_type": "code",
      "metadata": {
        "id": "i-wx4YvYFmxA",
        "colab_type": "code",
        "colab": {}
      },
      "source": [
        "k+=1\n",
        "(input_seq, actual_output), _ = next(val_gen)\n",
        "decoded_sentence = decode_sequence(input_seq)\n",
        "print('Input English sentence:', X_test[k:k+1].values[0])\n",
        "print('Actual Marathi Translation:', y_test[k:k+1].values[0][6:-4])\n",
        "print('Predicted Marathi Translation:', decoded_sentence[:-4])"
      ],
      "execution_count": 0,
      "outputs": []
    },
    {
      "cell_type": "code",
      "metadata": {
        "id": "FHEwtGWVFmxC",
        "colab_type": "code",
        "colab": {}
      },
      "source": [
        "k+=1\n",
        "(input_seq, actual_output), _ = next(val_gen)\n",
        "decoded_sentence = decode_sequence(input_seq)\n",
        "print('Input English sentence:', X_test[k:k+1].values[0])\n",
        "print('Actual Marathi Translation:', y_test[k:k+1].values[0][6:-4])\n",
        "print('Predicted Marathi Translation:', decoded_sentence[:-4])"
      ],
      "execution_count": 0,
      "outputs": []
    },
    {
      "cell_type": "code",
      "metadata": {
        "id": "iYOASIkPFmxE",
        "colab_type": "code",
        "colab": {}
      },
      "source": [
        "k+=1\n",
        "(input_seq, actual_output), _ = next(val_gen)\n",
        "decoded_sentence = decode_sequence(input_seq)\n",
        "print('Input English sentence:', X_test[k:k+1].values[0])\n",
        "print('Actual Marathi Translation:', y_test[k:k+1].values[0][6:-4])\n",
        "print('Predicted Marathi Translation:', decoded_sentence[:-4])"
      ],
      "execution_count": 0,
      "outputs": []
    },
    {
      "cell_type": "code",
      "metadata": {
        "id": "cAGriWqRFmxH",
        "colab_type": "code",
        "colab": {}
      },
      "source": [
        "k+=1\n",
        "(input_seq, actual_output), _ = next(val_gen)\n",
        "decoded_sentence = decode_sequence(input_seq)\n",
        "print('Input English sentence:', X_test[k:k+1].values[0])\n",
        "print('Actual Marathi Translation:', y_test[k:k+1].values[0][6:-4])\n",
        "print('Predicted Marathi Translation:', decoded_sentence[:-4])"
      ],
      "execution_count": 0,
      "outputs": []
    },
    {
      "cell_type": "code",
      "metadata": {
        "id": "9nD0xuozFmxJ",
        "colab_type": "code",
        "colab": {}
      },
      "source": [
        "k+=1\n",
        "(input_seq, actual_output), _ = next(val_gen)\n",
        "decoded_sentence = decode_sequence(input_seq)\n",
        "print('Input English sentence:', X_test[k:k+1].values[0])\n",
        "print('Actual Marathi Translation:', y_test[k:k+1].values[0][6:-4])\n",
        "print('Predicted Marathi Translation:', decoded_sentence[:-4])"
      ],
      "execution_count": 0,
      "outputs": []
    },
    {
      "cell_type": "code",
      "metadata": {
        "id": "DsX2Jl-lFmxL",
        "colab_type": "code",
        "colab": {}
      },
      "source": [
        "k+=1\n",
        "(input_seq, actual_output), _ = next(val_gen)\n",
        "decoded_sentence = decode_sequence(input_seq)\n",
        "print('Input English sentence:', X_test[k:k+1].values[0])\n",
        "print('Actual Marathi Translation:', y_test[k:k+1].values[0][6:-4])\n",
        "print('Predicted Marathi Translation:', decoded_sentence[:-4])"
      ],
      "execution_count": 0,
      "outputs": []
    },
    {
      "cell_type": "code",
      "metadata": {
        "id": "BurlQ6OgFmxN",
        "colab_type": "code",
        "colab": {}
      },
      "source": [
        "k+=1\n",
        "(input_seq, actual_output), _ = next(val_gen)\n",
        "decoded_sentence = decode_sequence(input_seq)\n",
        "print('Input English sentence:', X_test[k:k+1].values[0])\n",
        "print('Actual Marathi Translation:', y_test[k:k+1].values[0][6:-4])\n",
        "print('Predicted Marathi Translation:', decoded_sentence[:-4])"
      ],
      "execution_count": 0,
      "outputs": []
    },
    {
      "cell_type": "code",
      "metadata": {
        "id": "XLnFDAviFmxO",
        "colab_type": "code",
        "colab": {}
      },
      "source": [
        "k+=1\n",
        "(input_seq, actual_output), _ = next(val_gen)\n",
        "decoded_sentence = decode_sequence(input_seq)\n",
        "print('Input English sentence:', X_test[k:k+1].values[0])\n",
        "print('Actual Marathi Translation:', y_test[k:k+1].values[0][6:-4])\n",
        "print('Predicted Marathi Translation:', decoded_sentence[:-4])"
      ],
      "execution_count": 0,
      "outputs": []
    },
    {
      "cell_type": "code",
      "metadata": {
        "id": "CjKf17-9FmxQ",
        "colab_type": "code",
        "colab": {}
      },
      "source": [
        "k+=1\n",
        "(input_seq, actual_output), _ = next(val_gen)\n",
        "decoded_sentence = decode_sequence(input_seq)\n",
        "print('Input English sentence:', X_test[k:k+1].values[0])\n",
        "print('Actual Marathi Translation:', y_test[k:k+1].values[0][6:-4])\n",
        "print('Predicted Marathi Translation:', decoded_sentence[:-4])"
      ],
      "execution_count": 0,
      "outputs": []
    },
    {
      "cell_type": "code",
      "metadata": {
        "id": "qVl6lLPfFmxS",
        "colab_type": "code",
        "colab": {}
      },
      "source": [
        "k+=1\n",
        "(input_seq, actual_output), _ = next(val_gen)\n",
        "decoded_sentence = decode_sequence(input_seq)\n",
        "print('Input English sentence:', X_test[k:k+1].values[0])\n",
        "print('Actual Marathi Translation:', y_test[k:k+1].values[0][6:-4])\n",
        "print('Predicted Marathi Translation:', decoded_sentence[:-4])"
      ],
      "execution_count": 0,
      "outputs": []
    },
    {
      "cell_type": "code",
      "metadata": {
        "id": "9mTqidpMFmxT",
        "colab_type": "code",
        "colab": {}
      },
      "source": [
        "k+=1\n",
        "(input_seq, actual_output), _ = next(val_gen)\n",
        "decoded_sentence = decode_sequence(input_seq)\n",
        "print('Input English sentence:', X_test[k:k+1].values[0])\n",
        "print('Actual Marathi Translation:', y_test[k:k+1].values[0][6:-4])\n",
        "print('Predicted Marathi Translation:', decoded_sentence[:-4])"
      ],
      "execution_count": 0,
      "outputs": []
    },
    {
      "cell_type": "code",
      "metadata": {
        "id": "M7oV-DgOFmxV",
        "colab_type": "code",
        "colab": {}
      },
      "source": [
        "k+=1\n",
        "(input_seq, actual_output), _ = next(val_gen)\n",
        "decoded_sentence = decode_sequence(input_seq)\n",
        "print('Input English sentence:', X_test[k:k+1].values[0])\n",
        "print('Actual Marathi Translation:', y_test[k:k+1].values[0][6:-4])\n",
        "print('Predicted Marathi Translation:', decoded_sentence[:-4])"
      ],
      "execution_count": 0,
      "outputs": []
    },
    {
      "cell_type": "code",
      "metadata": {
        "id": "GmOX_PJMFmxY",
        "colab_type": "code",
        "colab": {}
      },
      "source": [
        "k+=1\n",
        "(input_seq, actual_output), _ = next(val_gen)\n",
        "decoded_sentence = decode_sequence(input_seq)\n",
        "print('Input English sentence:', X_test[k:k+1].values[0])\n",
        "print('Actual Marathi Translation:', y_test[k:k+1].values[0][6:-4])\n",
        "print('Predicted Marathi Translation:', decoded_sentence[:-4])"
      ],
      "execution_count": 0,
      "outputs": []
    },
    {
      "cell_type": "code",
      "metadata": {
        "id": "2JrCsqv7Fmxa",
        "colab_type": "code",
        "colab": {}
      },
      "source": [
        "k+=1\n",
        "(input_seq, actual_output), _ = next(val_gen)\n",
        "decoded_sentence = decode_sequence(input_seq)\n",
        "print('Input English sentence:', X_test[k:k+1].values[0])\n",
        "print('Actual Marathi Translation:', y_test[k:k+1].values[0][6:-4])\n",
        "print('Predicted Marathi Translation:', decoded_sentence[:-4])"
      ],
      "execution_count": 0,
      "outputs": []
    },
    {
      "cell_type": "code",
      "metadata": {
        "id": "9IZiczUZFmxd",
        "colab_type": "code",
        "colab": {}
      },
      "source": [
        "k+=1\n",
        "(input_seq, actual_output), _ = next(val_gen)\n",
        "decoded_sentence = decode_sequence(input_seq)\n",
        "print('Input English sentence:', X_test[k:k+1].values[0])\n",
        "print('Actual Marathi Translation:', y_test[k:k+1].values[0][6:-4])\n",
        "print('Predicted Marathi Translation:', decoded_sentence[:-4])"
      ],
      "execution_count": 0,
      "outputs": []
    },
    {
      "cell_type": "code",
      "metadata": {
        "id": "Q4-_v15bFmxg",
        "colab_type": "code",
        "colab": {}
      },
      "source": [
        "k+=1\n",
        "(input_seq, actual_output), _ = next(val_gen)\n",
        "decoded_sentence = decode_sequence(input_seq)\n",
        "print('Input English sentence:', X_test[k:k+1].values[0])\n",
        "print('Actual Marathi Translation:', y_test[k:k+1].values[0][6:-4])\n",
        "print('Predicted Marathi Translation:', decoded_sentence[:-4])"
      ],
      "execution_count": 0,
      "outputs": []
    },
    {
      "cell_type": "code",
      "metadata": {
        "id": "9dVqLWTcFmxm",
        "colab_type": "code",
        "colab": {}
      },
      "source": [
        "k+=1\n",
        "(input_seq, actual_output), _ = next(val_gen)\n",
        "decoded_sentence = decode_sequence(input_seq)\n",
        "print('Input English sentence:', X_test[k:k+1].values[0])\n",
        "print('Actual Marathi Translation:', y_test[k:k+1].values[0][6:-4])\n",
        "print('Predicted Marathi Translation:', decoded_sentence[:-4])"
      ],
      "execution_count": 0,
      "outputs": []
    },
    {
      "cell_type": "code",
      "metadata": {
        "id": "twL94pj5Fmy8",
        "colab_type": "code",
        "colab": {}
      },
      "source": [
        ""
      ],
      "execution_count": 0,
      "outputs": []
    }
  ]
}